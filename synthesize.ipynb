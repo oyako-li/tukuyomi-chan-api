{
 "cells": [
  {
   "cell_type": "code",
   "execution_count": 23,
   "metadata": {},
   "outputs": [],
   "source": [
    "from espnet2.bin.tts_inference import Text2Speech\n",
    "from espnet2.utils.types import str_or_none\n",
    "from IPython.display import Audio\n",
    "from urllib.parse import quote\n",
    "from pydub import AudioSegment\n",
    "from bs4 import BeautifulSoup\n",
    "from tqdm import tqdm\n",
    "import io\n",
    "import time\n",
    "import torch\n",
    "import soundfile as sf\n",
    "import requests\n",
    "import warnings\n",
    "import json\n",
    "warnings.simplefilter(\"ignore\", UserWarning)"
   ]
  },
  {
   "cell_type": "code",
   "execution_count": 8,
   "metadata": {},
   "outputs": [],
   "source": [
    "def get_tukuyomi(text:str, is_save=False):\n",
    "    \"\"\"\n",
    "    ! python main.py\n",
    "    で実行したAPIサーバーにリクエストを投げる\n",
    "    \"\"\"\n",
    "    res = requests.get(f\"http://localhost:5001/tts?text={quote(text)}\")\n",
    "    # 既に取得した res.content を使用\n",
    "    if res.status_code == 200:\n",
    "        audio = Audio(res.content, autoplay=True)\n",
    "        display(audio)\n",
    "        if is_save:\n",
    "            with open(f\"./data/{text.replace('/','_')}.wav\", \"wb\") as f:\n",
    "                f.write(res.content)\n",
    "                print(\"ファイルを保存しました。\")\n",
    "    else:\n",
    "        print(f\"エラーが発生しました: ステータスコード {res.status_code}\")"
   ]
  },
  {
   "cell_type": "code",
   "execution_count": null,
   "metadata": {},
   "outputs": [],
   "source": [
    "get_tukuyomi(\"最近話題のTTS試してみた\")"
   ]
  },
  {
   "cell_type": "code",
   "execution_count": null,
   "metadata": {},
   "outputs": [],
   "source": [
    "quotes = []\n",
    "for i in tqdm(range(1,18)):\n",
    "    res = requests.get(f\"https://iyashitour.com/meigen/theme/life/{i}\")\n",
    "    soup = BeautifulSoup(res.text, 'html.parser')\n",
    "    quote_elms = soup.find_all('p', {'class':'quote'})\n",
    "    quotes += [q.get_text(\" \", strip=True) for q in quote_elms]\n",
    "\n",
    "with open('./data/quotes.txt', 'w') as f:\n",
    "    for line in quotes:\n",
    "        f.write(f\"{line}\\n\")"
   ]
  },
  {
   "cell_type": "code",
   "execution_count": 21,
   "metadata": {},
   "outputs": [
    {
     "name": "stderr",
     "output_type": "stream",
     "text": [
      "100%|██████████| 270/270 [07:56<00:00,  1.77s/it]\n"
     ]
    },
    {
     "data": {
      "text/plain": [
       "<_io.BufferedRandom name='./data/quotes.wav'>"
      ]
     },
     "execution_count": 21,
     "metadata": {},
     "output_type": "execute_result"
    }
   ],
   "source": [
    "with open(\"./data/quotes.txt\",\"r\") as f:\n",
    "    # 最初の音声ファイルを基点として、他の音声データを結合します\n",
    "    quotes = [q for q in f]\n",
    "    combined = AudioSegment.empty()\n",
    "    for text in tqdm(quotes):\n",
    "        res = requests.get(f\"http://localhost:5001/tts?text={quote(text)}\")\n",
    "        if res.status_code == 200:\n",
    "            content = res.content\n",
    "            audio_segment = AudioSegment.from_file(io.BytesIO(content), format=\"wav\")\n",
    "            # 無声音\n",
    "            a = AudioSegment.silent(duration=1000)\n",
    "            combined += audio_segment+a\n",
    "    # 結合した音声ファイルを新しいファイルとして出力\n",
    "    combined.export(\"./data/quotes.wav\", format=\"wav\")"
   ]
  },
  {
   "cell_type": "code",
   "execution_count": null,
   "metadata": {},
   "outputs": [],
   "source": [
    "Audio(\"./data/quotes.wav\")"
   ]
  }
 ],
 "metadata": {
  "kernelspec": {
   "display_name": ".tts",
   "language": "python",
   "name": "python3"
  },
  "language_info": {
   "codemirror_mode": {
    "name": "ipython",
    "version": 3
   },
   "file_extension": ".py",
   "mimetype": "text/x-python",
   "name": "python",
   "nbconvert_exporter": "python",
   "pygments_lexer": "ipython3",
   "version": "3.8.19"
  }
 },
 "nbformat": 4,
 "nbformat_minor": 2
}
